{
 "cells": [
  {
   "cell_type": "markdown",
   "metadata": {
    "colab_type": "text",
    "id": "2ld-dfQRxw2Q"
   },
   "source": [
    "---\n",
    "---\n",
    "\n",
    "<center><h1> 📍 📍 Sorting the Data 📍 📍 </h1></center>\n",
    "\n",
    "---\n",
    "\n",
    "In this notebook, we will see how to sort the data based on a single column and on multiple columns. Also we will see how to reset index after sorting the data.\n",
    "\n",
    "---\n"
   ]
  },
  {
   "cell_type": "code",
   "execution_count": 0,
   "metadata": {
    "colab": {},
    "colab_type": "code",
    "id": "SsQF1TVZxw2U"
   },
   "outputs": [],
   "source": [
    "# import the pandas library\n",
    "import pandas as pd"
   ]
  },
  {
   "cell_type": "markdown",
   "metadata": {
    "colab_type": "text",
    "id": "fB7A9E35xw2a"
   },
   "source": [
    " ---\n",
    "\n",
    "#### `CREATE A SAMPLE DATAFRAME`\n",
    "\n",
    "\n",
    "- We will create a sample data of students that will contain `roll_no`, `name`, `grade`, `marks` and `city`. \n",
    "\n",
    "\n",
    "---"
   ]
  },
  {
   "cell_type": "code",
   "execution_count": 0,
   "metadata": {
    "colab": {},
    "colab_type": "code",
    "id": "OAP31pWIxw2c",
    "outputId": "9420cf7f-d0f1-4728-dc3c-186144c21c7b"
   },
   "outputs": [
    {
     "data": {
      "text/html": [
       "<div>\n",
       "<style scoped>\n",
       "    .dataframe tbody tr th:only-of-type {\n",
       "        vertical-align: middle;\n",
       "    }\n",
       "\n",
       "    .dataframe tbody tr th {\n",
       "        vertical-align: top;\n",
       "    }\n",
       "\n",
       "    .dataframe thead th {\n",
       "        text-align: right;\n",
       "    }\n",
       "</style>\n",
       "<table border=\"1\" class=\"dataframe\">\n",
       "  <thead>\n",
       "    <tr style=\"text-align: right;\">\n",
       "      <th></th>\n",
       "      <th>roll_no</th>\n",
       "      <th>name</th>\n",
       "      <th>grade</th>\n",
       "      <th>marks</th>\n",
       "      <th>city</th>\n",
       "    </tr>\n",
       "  </thead>\n",
       "  <tbody>\n",
       "    <tr>\n",
       "      <th>0</th>\n",
       "      <td>102</td>\n",
       "      <td>Aravind</td>\n",
       "      <td>B</td>\n",
       "      <td>15</td>\n",
       "      <td>Gurugram</td>\n",
       "    </tr>\n",
       "    <tr>\n",
       "      <th>1</th>\n",
       "      <td>101</td>\n",
       "      <td>Rahul</td>\n",
       "      <td>B</td>\n",
       "      <td>15</td>\n",
       "      <td>Delhi</td>\n",
       "    </tr>\n",
       "    <tr>\n",
       "      <th>2</th>\n",
       "      <td>104</td>\n",
       "      <td>Prateek</td>\n",
       "      <td>A</td>\n",
       "      <td>20</td>\n",
       "      <td>Delhi</td>\n",
       "    </tr>\n",
       "    <tr>\n",
       "      <th>3</th>\n",
       "      <td>103</td>\n",
       "      <td>Piyuesh</td>\n",
       "      <td>C</td>\n",
       "      <td>4</td>\n",
       "      <td>Gurugram</td>\n",
       "    </tr>\n",
       "    <tr>\n",
       "      <th>4</th>\n",
       "      <td>105</td>\n",
       "      <td>Kartik</td>\n",
       "      <td>A</td>\n",
       "      <td>22</td>\n",
       "      <td>Hyderabad</td>\n",
       "    </tr>\n",
       "  </tbody>\n",
       "</table>\n",
       "</div>"
      ],
      "text/plain": [
       "   roll_no     name grade  marks       city\n",
       "0      102  Aravind     B     15   Gurugram\n",
       "1      101    Rahul     B     15      Delhi\n",
       "2      104  Prateek     A     20      Delhi\n",
       "3      103  Piyuesh     C      4   Gurugram\n",
       "4      105   Kartik     A     22  Hyderabad"
      ]
     },
     "execution_count": 2,
     "metadata": {
      "tags": []
     },
     "output_type": "execute_result"
    }
   ],
   "source": [
    "# sample dataframe\n",
    "data_frame = pd.DataFrame({\n",
    "    'roll_no': [ 102, 101, 104, 103, 105],\n",
    "    'name' : ['Aravind', 'Rahul', 'Prateek', 'Piyuesh', 'Kartik'],\n",
    "    'grade': ['B', 'B', 'A', 'C', 'A'],\n",
    "    'marks': [ 15, 15, 20, 4, 22],\n",
    "    'city' : ['Gurugram', 'Delhi', 'Delhi', 'Gurugram', 'Hyderabad']\n",
    "})\n",
    "\n",
    "data_frame"
   ]
  },
  {
   "cell_type": "markdown",
   "metadata": {
    "colab_type": "text",
    "id": "lkeZbOEcxw2k"
   },
   "source": [
    "---\n",
    "\n",
    "#### `SORT THE DATAFRAME BY THE GRADES OF THE STUDENT` \n",
    "\n",
    "\n",
    "- Now, we need to sort the students based on their grades. We will use the **`sort_values`** function and in the parameter by we will pass the column **`grade`**. \n",
    "\n",
    "---"
   ]
  },
  {
   "cell_type": "code",
   "execution_count": 0,
   "metadata": {
    "colab": {},
    "colab_type": "code",
    "id": "Da41-Nwixw2l",
    "outputId": "27f3e70b-3705-44d8-926e-2bdda2ba2e6a"
   },
   "outputs": [
    {
     "data": {
      "text/html": [
       "<div>\n",
       "<style scoped>\n",
       "    .dataframe tbody tr th:only-of-type {\n",
       "        vertical-align: middle;\n",
       "    }\n",
       "\n",
       "    .dataframe tbody tr th {\n",
       "        vertical-align: top;\n",
       "    }\n",
       "\n",
       "    .dataframe thead th {\n",
       "        text-align: right;\n",
       "    }\n",
       "</style>\n",
       "<table border=\"1\" class=\"dataframe\">\n",
       "  <thead>\n",
       "    <tr style=\"text-align: right;\">\n",
       "      <th></th>\n",
       "      <th>roll_no</th>\n",
       "      <th>name</th>\n",
       "      <th>grade</th>\n",
       "      <th>marks</th>\n",
       "      <th>city</th>\n",
       "    </tr>\n",
       "  </thead>\n",
       "  <tbody>\n",
       "    <tr>\n",
       "      <th>2</th>\n",
       "      <td>104</td>\n",
       "      <td>Prateek</td>\n",
       "      <td>A</td>\n",
       "      <td>20</td>\n",
       "      <td>Delhi</td>\n",
       "    </tr>\n",
       "    <tr>\n",
       "      <th>4</th>\n",
       "      <td>105</td>\n",
       "      <td>Kartik</td>\n",
       "      <td>A</td>\n",
       "      <td>22</td>\n",
       "      <td>Hyderabad</td>\n",
       "    </tr>\n",
       "    <tr>\n",
       "      <th>0</th>\n",
       "      <td>102</td>\n",
       "      <td>Aravind</td>\n",
       "      <td>B</td>\n",
       "      <td>15</td>\n",
       "      <td>Gurugram</td>\n",
       "    </tr>\n",
       "    <tr>\n",
       "      <th>1</th>\n",
       "      <td>101</td>\n",
       "      <td>Rahul</td>\n",
       "      <td>B</td>\n",
       "      <td>15</td>\n",
       "      <td>Delhi</td>\n",
       "    </tr>\n",
       "    <tr>\n",
       "      <th>3</th>\n",
       "      <td>103</td>\n",
       "      <td>Piyuesh</td>\n",
       "      <td>C</td>\n",
       "      <td>4</td>\n",
       "      <td>Gurugram</td>\n",
       "    </tr>\n",
       "  </tbody>\n",
       "</table>\n",
       "</div>"
      ],
      "text/plain": [
       "   roll_no     name grade  marks       city\n",
       "2      104  Prateek     A     20      Delhi\n",
       "4      105   Kartik     A     22  Hyderabad\n",
       "0      102  Aravind     B     15   Gurugram\n",
       "1      101    Rahul     B     15      Delhi\n",
       "3      103  Piyuesh     C      4   Gurugram"
      ]
     },
     "execution_count": 4,
     "metadata": {
      "tags": []
     },
     "output_type": "execute_result"
    }
   ],
   "source": [
    "# sort the data\n",
    "data_frame.sort_values(by=['grade'])"
   ]
  },
  {
   "cell_type": "markdown",
   "metadata": {
    "colab_type": "text",
    "id": "nFnokyMuxw2r"
   },
   "source": [
    "---\n",
    "\n",
    "- Now, that we have sorted the data based on the grades. You can see that some of the students with higher marks are ranked lower even having the same marks. So, we want to sort the data based on both grades and marks.\n",
    "\n",
    "- Also, the grades should be in ascending order and marks should be in descending order.\n",
    "\n",
    "\n",
    "---"
   ]
  },
  {
   "cell_type": "markdown",
   "metadata": {
    "colab_type": "text",
    "id": "_z1yOxxFxw2t"
   },
   "source": [
    "---\n",
    "\n",
    "#### `SORT THE DATAFRAME BY GRADE AND MARKS OF THE STUDENTS`\n",
    "\n",
    "\n",
    "- To sort the values in the descending order, we need to set parameter `ascending = False`.\n",
    "- In the by parameter pass the list of columns on which we want to sort and for the ascending parameter pass the boolean list `True for ascending` and `False for descending`.\n",
    "\n",
    "---"
   ]
  },
  {
   "cell_type": "code",
   "execution_count": 0,
   "metadata": {
    "colab": {},
    "colab_type": "code",
    "id": "TYCWOEYAxw3A"
   },
   "outputs": [],
   "source": [
    "# save the sorted state by using inplace =True\n",
    "data_frame.sort_values(by=['grade','marks'], ascending= [True, False], inplace=True)"
   ]
  },
  {
   "cell_type": "code",
   "execution_count": 0,
   "metadata": {
    "colab": {},
    "colab_type": "code",
    "id": "StcV_0KExw3F",
    "outputId": "784d2234-e17f-4321-81ec-c7de5903a185"
   },
   "outputs": [
    {
     "data": {
      "text/html": [
       "<div>\n",
       "<style scoped>\n",
       "    .dataframe tbody tr th:only-of-type {\n",
       "        vertical-align: middle;\n",
       "    }\n",
       "\n",
       "    .dataframe tbody tr th {\n",
       "        vertical-align: top;\n",
       "    }\n",
       "\n",
       "    .dataframe thead th {\n",
       "        text-align: right;\n",
       "    }\n",
       "</style>\n",
       "<table border=\"1\" class=\"dataframe\">\n",
       "  <thead>\n",
       "    <tr style=\"text-align: right;\">\n",
       "      <th></th>\n",
       "      <th>roll_no</th>\n",
       "      <th>name</th>\n",
       "      <th>grade</th>\n",
       "      <th>marks</th>\n",
       "      <th>city</th>\n",
       "    </tr>\n",
       "  </thead>\n",
       "  <tbody>\n",
       "    <tr>\n",
       "      <th>4</th>\n",
       "      <td>105</td>\n",
       "      <td>Kartik</td>\n",
       "      <td>A</td>\n",
       "      <td>22</td>\n",
       "      <td>Hyderabad</td>\n",
       "    </tr>\n",
       "    <tr>\n",
       "      <th>2</th>\n",
       "      <td>104</td>\n",
       "      <td>Prateek</td>\n",
       "      <td>A</td>\n",
       "      <td>20</td>\n",
       "      <td>Delhi</td>\n",
       "    </tr>\n",
       "    <tr>\n",
       "      <th>0</th>\n",
       "      <td>102</td>\n",
       "      <td>Aravind</td>\n",
       "      <td>B</td>\n",
       "      <td>15</td>\n",
       "      <td>Gurugram</td>\n",
       "    </tr>\n",
       "    <tr>\n",
       "      <th>1</th>\n",
       "      <td>101</td>\n",
       "      <td>Rahul</td>\n",
       "      <td>B</td>\n",
       "      <td>15</td>\n",
       "      <td>Delhi</td>\n",
       "    </tr>\n",
       "    <tr>\n",
       "      <th>3</th>\n",
       "      <td>103</td>\n",
       "      <td>Piyuesh</td>\n",
       "      <td>C</td>\n",
       "      <td>4</td>\n",
       "      <td>Gurugram</td>\n",
       "    </tr>\n",
       "  </tbody>\n",
       "</table>\n",
       "</div>"
      ],
      "text/plain": [
       "   roll_no     name grade  marks       city\n",
       "4      105   Kartik     A     22  Hyderabad\n",
       "2      104  Prateek     A     20      Delhi\n",
       "0      102  Aravind     B     15   Gurugram\n",
       "1      101    Rahul     B     15      Delhi\n",
       "3      103  Piyuesh     C      4   Gurugram"
      ]
     },
     "execution_count": 8,
     "metadata": {
      "tags": []
     },
     "output_type": "execute_result"
    }
   ],
   "source": [
    "data_frame"
   ]
  },
  {
   "cell_type": "markdown",
   "metadata": {
    "colab_type": "text",
    "id": "K-z7XKMYxw3K"
   },
   "source": [
    "---\n",
    "\n",
    "***Now, we can see that the index is also shuffled according to the sorting. If we want to reset the index we use `reset_index` function.***\n",
    "\n",
    "\n",
    "---"
   ]
  },
  {
   "cell_type": "code",
   "execution_count": 0,
   "metadata": {
    "colab": {},
    "colab_type": "code",
    "id": "fmsiCzj-xw3a"
   },
   "outputs": [],
   "source": []
  }
 ],
 "metadata": {
  "colab": {
   "name": "1. Sorting the DataFrame.ipynb",
   "provenance": []
  },
  "kernelspec": {
   "display_name": "Python 3 (ipykernel)",
   "language": "python",
   "name": "python3"
  },
  "language_info": {
   "codemirror_mode": {
    "name": "ipython",
    "version": 3
   },
   "file_extension": ".py",
   "mimetype": "text/x-python",
   "name": "python",
   "nbconvert_exporter": "python",
   "pygments_lexer": "ipython3",
   "version": "3.9.13"
  }
 },
 "nbformat": 4,
 "nbformat_minor": 1
}
