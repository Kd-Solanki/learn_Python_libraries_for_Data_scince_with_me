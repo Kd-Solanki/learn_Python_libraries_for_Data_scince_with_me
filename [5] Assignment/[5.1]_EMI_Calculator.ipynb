{
 "cells": [
  {
   "cell_type": "markdown",
   "id": "0d19a4a7",
   "metadata": {},
   "source": [
    "---\n",
    "---\n",
    "\n",
    "<center><h1>📍 📍 Assignment Problem: EMI Calculator 📍 📍</h1></center>\n",
    "\n",
    "---\n",
    "\n",
    "We all have come across the term EMI in everyday life. While buying any product, we get an option of the EMI Payment method. The full form of EMI is Equated Monthly Instalment. Through this, one must pay a specific sum to the seller on a fixed date each month with a fixed interest rate. EMI calculator helps calculate the amount with its interest rate that a buyer needs to pay to the seller.\n",
    "\n",
    "EMI Calculator is used to calculate home loans, car loans, bike loans, education loans EMI. In this assignment, you make you own EMI Calculator. If you are completely new to the concept of EMIs, then go through this article immediately: https://www.embibe.com/exams/emi-calculator/\n",
    "\n",
    "---\n",
    "\n",
    "\n",
    "### `Factors affecting EMI`\n",
    "\n",
    "EMI of a loan have three major factors on which it depends:\n",
    "\n",
    "1. Loan Amount: This stands for the total amount or the principal amount that the individual has borrowed.\n",
    "2. Interest Rate: It is a rate at which the interest is charged on the amount borrowed.\n",
    "3. Tenure of the Loan: It is an agreed loan repayment time frame between the borrower and the lender.\n",
    "\n",
    "---\n",
    "\n",
    "###  `Formula`\n",
    "\n",
    "\n",
    "By using the given formula one can calculate the EMI of the amount, Check the formula here:\n",
    "\n",
    "Where, E = EMI, P = Principal amount, r= rate of interest and n = Tenure in months.\n",
    "\n",
    "\n",
    "---\n",
    "\n",
    "\n",
    "###  `Using a Python code, answer the following:`\n",
    "\n",
    "\n",
    "1. Let’s calculate the Home Loan EMI now using Python code. Principal Amount 50Lakhs, Rate of interest 8%, and Loan repayment tenure is 15 years. Find the EMI to be paid?\n",
    "2. If the interest rate increases to 10%, and you cannot pay more than 30,000 as EMI, find the maximum amount of Loan you can take/afford for the same period?\n",
    "3. For the Que 1. what is the total interest paid by you year-wise (from the 1st year to the 15th year). Also, what is the total cumulative interest paid by you in 15 years?\n",
    "4. For the Que 1., in how many months would you have paid at least 50% of the Principal amount.\n",
    "\n",
    "---"
   ]
  },
  {
   "cell_type": "code",
   "execution_count": 1,
   "id": "153e65ce",
   "metadata": {},
   "outputs": [
    {
     "name": "stdout",
     "output_type": "stream",
     "text": [
      "The EMI to be paid is: 47782.60\n"
     ]
    }
   ],
   "source": [
    "principal = 5000000  \n",
    "interest_rate = 8  # 8%\n",
    "loan_tenure = 15  # 16 years\n",
    "\n",
    "\n",
    "monthly_interest_rate = interest_rate / (12 * 100)\n",
    "loan_tenure_months = loan_tenure * 12\n",
    "\n",
    "\n",
    "emi = (principal * monthly_interest_rate * pow(1 + monthly_interest_rate, loan_tenure_months)) / (pow(1 + monthly_interest_rate, loan_tenure_months) - 1)\n",
    "\n",
    "print(\"The EMI to be paid is: {}\".format(emi))"
   ]
  },
  {
   "cell_type": "code",
   "execution_count": 2,
   "id": "0d7b6ca9",
   "metadata": {},
   "outputs": [
    {
     "name": "stdout",
     "output_type": "stream",
     "text": [
      "The maximum loan amount you can afford is: 2791723.16\n"
     ]
    }
   ],
   "source": [
    "emi = 30000  \n",
    "interest_rate = 10  # 10%\n",
    "loan_tenure = 15  # 15 years\n",
    "\n",
    "\n",
    "monthly_interest_rate = interest_rate / (12 * 100)\n",
    "loan_tenure_months = loan_tenure * 12\n",
    "\n",
    "\n",
    "loan_amount = (emi * (pow(1 + monthly_interest_rate, loan_tenure_months) - 1)) / (monthly_interest_rate * pow(1 + monthly_interest_rate, loan_tenure_months))\n",
    "\n",
    "print(\"The maximum loan amount you can afford is: {}\".format(loan_amount))"
   ]
  },
  {
   "cell_type": "code",
   "execution_count": 3,
   "id": "dfb9a14b",
   "metadata": {},
   "outputs": [
    {
     "name": "stdout",
     "output_type": "stream",
     "text": [
      "Year 1: Total Interest Paid: 393498.89704334823\n",
      "Year 2: Total Interest Paid: 378567.9204198521\n",
      "Year 3: Total Interest Paid: 362397.68010045134\n",
      "Year 4: Total Interest Paid: 344885.31780958123\n",
      "Year 5: Total Interest Paid: 325919.43808553467\n",
      "Year 6: Total Interest Paid: 305379.3996982215\n",
      "Year 7: Total Interest Paid: 283134.54825495393\n",
      "Year 8: Total Interest Paid: 259043.3851128889\n",
      "Year 9: Total Interest Paid: 232952.66731161316\n",
      "Year 10: Total Interest Paid: 204696.43280057758\n",
      "Year 11: Total Interest Paid: 174094.94476088864\n",
      "Year 12: Total Interest Paid: 140953.5483063297\n",
      "Year 13: Total Interest Paid: 105061.43229113016\n",
      "Year 14: Total Interest Paid: 66190.2883483911\n",
      "Year 15: Total Interest Paid: 24092.85862936092\n",
      "Total Cumulative Interest Paid in 15 years: 3600868.758973123\n"
     ]
    }
   ],
   "source": [
    "principal = 5000000\n",
    "yearly_interest_rate = 8/100\n",
    "time_in_years = 15 \n",
    "\n",
    "\n",
    "\n",
    "monthly_interest_rate = yearly_interest_rate/12\n",
    "time_in_months = time_in_years*12\n",
    "\n",
    "\n",
    "emi_per_months = (principal * monthly_interest_rate * pow(1 + monthly_interest_rate, time_in_months )) / (pow(1 + monthly_interest_rate, time_in_months) - 1)\n",
    "\n",
    "\n",
    "remaining_principal_to_pay = principal\n",
    "\n",
    "total_interest_paid = 0\n",
    "\n",
    "for year in range(1, time_in_years + 1):\n",
    "    interest_paid_in_year = 0\n",
    "    \n",
    "    for month in range(12):\n",
    "        interest_paid_in_month = remaining_principal_to_pay * monthly_interest_rate\n",
    "        principal_paid_in_month = emi_per_months - interest_paid_in_month\n",
    "        remaining_principal_to_pay -= principal_paid_in_month\n",
    "        interest_paid_in_year += interest_paid_in_month\n",
    "    \n",
    "    total_interest_paid += interest_paid_in_year\n",
    "    print(\"Year {0}: Total Interest Paid: {1}\".format(year,interest_paid_in_year)) \n",
    "    \n",
    "print(\"Total Cumulative Interest Paid in 15 years: {}\".format(total_interest_paid))        \n"
   ]
  },
  {
   "cell_type": "code",
   "execution_count": 5,
   "id": "1b1b8aaf",
   "metadata": {},
   "outputs": [
    {
     "name": "stdout",
     "output_type": "stream",
     "text": [
      "Number of months required to pay at least 50% of the principal amount: 116\n"
     ]
    }
   ],
   "source": [
    "principal = 5000000\n",
    "yearly_interest_rate = 8/100\n",
    "time_in_years = 15 \n",
    "\n",
    "\n",
    "\n",
    "monthly_interest_rate = yearly_interest_rate/12\n",
    "time_in_months = time_in_years*12\n",
    "\n",
    "\n",
    "emi_per_months = (principal * monthly_interest_rate * pow(1 + monthly_interest_rate, time_in_months )) / (pow(1 + monthly_interest_rate, time_in_months) - 1)\n",
    "\n",
    "\n",
    "remaining_principal_to_pay = principal\n",
    "months = 0\n",
    "\n",
    "while remaining_principal_to_pay >= (principal * 0.5):\n",
    "        interest_paid_in_month = remaining_principal_to_pay * monthly_interest_rate\n",
    "        principal_paid_in_month = emi_per_months - interest_paid_in_month\n",
    "        remaining_principal_to_pay -= principal_paid_in_month\n",
    "        months += 1 \n",
    "    \n",
    "\n",
    "    \n",
    "print(\"Number of months required to pay at least 50% of the principal amount: {}\".format(months))\n"
   ]
  },
  {
   "cell_type": "code",
   "execution_count": null,
   "id": "4dab82b5",
   "metadata": {},
   "outputs": [],
   "source": []
  }
 ],
 "metadata": {
  "kernelspec": {
   "display_name": "Python 3 (ipykernel)",
   "language": "python",
   "name": "python3"
  },
  "language_info": {
   "codemirror_mode": {
    "name": "ipython",
    "version": 3
   },
   "file_extension": ".py",
   "mimetype": "text/x-python",
   "name": "python",
   "nbconvert_exporter": "python",
   "pygments_lexer": "ipython3",
   "version": "3.9.13"
  }
 },
 "nbformat": 4,
 "nbformat_minor": 5
}
