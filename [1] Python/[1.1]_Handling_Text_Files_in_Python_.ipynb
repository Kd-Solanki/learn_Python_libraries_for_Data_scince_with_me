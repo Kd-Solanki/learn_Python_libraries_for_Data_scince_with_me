{
 "cells": [
  {
   "cell_type": "markdown",
   "id": "010e2d69",
   "metadata": {},
   "source": [
    "\n",
    "\n",
    "\n",
    "---\n",
    "---\n",
    "\n",
    "<center><h1>📍 📍 FILE HANDLING 📍 📍 </h1></center>\n",
    "\n",
    "\n",
    "#### `[1] TEXT FILES :`\n",
    "\n",
    "---\n",
    "\n",
    "* ***.txt***\n",
    "\n",
    "\n",
    "**FILE ACCESS MODES**\n",
    "\n",
    " * ***`Read Only (‘r’)`*** : It opens the text file for reading. If the file does not exists, raises I/O error.\n",
    " * ***`Read and Write (‘r+’)`*** : It opens the file for reading and writing. Raises I/O error if the file does not exists.\n",
    " * ***`Write Only (‘w’)`*** : It opens the file for writing. For existing file, the data over-written. Creates the file if the file does not exists.\n",
    " * ***`Write and Read (‘w+’)`*** : It opens the file for reading and writing. For existing file, data is truncated and over-written.\n",
    " * ***`Append Only (‘a’)`*** : It opens the file for writing. The file is created if it does not exist. The data being written will be inserted at the end, after the existing data.\n",
    " * ***`Append and Read (‘a+’)`*** : It opens the file for reading and writing. The file is created if it does not exist. The data being written will be inserted at the end, after the existing data.\n",
    "\n",
    "---\n",
    "\n",
    "---"
   ]
  },
  {
   "cell_type": "markdown",
   "id": "1528d5f3",
   "metadata": {},
   "source": [
    "#### `[1.1] READING TEXT FILES (\"r\")`\n",
    "\n",
    "---"
   ]
  },
  {
   "cell_type": "code",
   "execution_count": 1,
   "id": "6a2e68e3",
   "metadata": {},
   "outputs": [],
   "source": [
    "text_file = open(\"C:/Users/it/dataset/file_1.txt\",\"r\")"
   ]
  },
  {
   "cell_type": "code",
   "execution_count": 2,
   "id": "d2e5c578",
   "metadata": {},
   "outputs": [
    {
     "data": {
      "text/plain": [
       "'This is line number 1.\\nThis is line number 2.\\nThis is line number 3.\\nThis is line number 4.\\nThis is line number 5.\\n'"
      ]
     },
     "execution_count": 2,
     "metadata": {},
     "output_type": "execute_result"
    }
   ],
   "source": [
    "text_file.read()"
   ]
  },
  {
   "cell_type": "code",
   "execution_count": 3,
   "id": "0b524c03",
   "metadata": {},
   "outputs": [
    {
     "data": {
      "text/plain": [
       "''"
      ]
     },
     "execution_count": 3,
     "metadata": {},
     "output_type": "execute_result"
    }
   ],
   "source": [
    "text_file.read()"
   ]
  },
  {
   "cell_type": "code",
   "execution_count": 4,
   "id": "6a18c0c2",
   "metadata": {},
   "outputs": [
    {
     "data": {
      "text/plain": [
       "0"
      ]
     },
     "execution_count": 4,
     "metadata": {},
     "output_type": "execute_result"
    }
   ],
   "source": [
    "text_file.seek(0)"
   ]
  },
  {
   "cell_type": "code",
   "execution_count": 5,
   "id": "cebbef8c",
   "metadata": {},
   "outputs": [
    {
     "data": {
      "text/plain": [
       "'This is line number 1.\\nThis is line number 2.\\nThis is line number 3.\\nThis is line number 4.\\nThis is line number 5.\\n'"
      ]
     },
     "execution_count": 5,
     "metadata": {},
     "output_type": "execute_result"
    }
   ],
   "source": [
    "text_file.read()"
   ]
  },
  {
   "cell_type": "code",
   "execution_count": 6,
   "id": "9538665b",
   "metadata": {},
   "outputs": [
    {
     "data": {
      "text/plain": [
       "30"
      ]
     },
     "execution_count": 6,
     "metadata": {},
     "output_type": "execute_result"
    }
   ],
   "source": [
    "text_file.seek(30)"
   ]
  },
  {
   "cell_type": "code",
   "execution_count": 7,
   "id": "6e5a0c1a",
   "metadata": {},
   "outputs": [
    {
     "data": {
      "text/plain": [
       "' line number 2.\\nThis is line number 3.\\nThis is line number 4.\\nThis is line number 5.\\n'"
      ]
     },
     "execution_count": 7,
     "metadata": {},
     "output_type": "execute_result"
    }
   ],
   "source": [
    "text_file.read()"
   ]
  },
  {
   "cell_type": "code",
   "execution_count": 8,
   "id": "4d4e4e97",
   "metadata": {},
   "outputs": [
    {
     "data": {
      "text/plain": [
       "0"
      ]
     },
     "execution_count": 8,
     "metadata": {},
     "output_type": "execute_result"
    }
   ],
   "source": [
    "text_file.seek(0)"
   ]
  },
  {
   "cell_type": "code",
   "execution_count": 9,
   "id": "8da82180",
   "metadata": {},
   "outputs": [],
   "source": [
    "lines = text_file.readlines()"
   ]
  },
  {
   "cell_type": "code",
   "execution_count": 10,
   "id": "d0606099",
   "metadata": {},
   "outputs": [
    {
     "data": {
      "text/plain": [
       "['This is line number 1.\\n',\n",
       " 'This is line number 2.\\n',\n",
       " 'This is line number 3.\\n',\n",
       " 'This is line number 4.\\n',\n",
       " 'This is line number 5.\\n']"
      ]
     },
     "execution_count": 10,
     "metadata": {},
     "output_type": "execute_result"
    }
   ],
   "source": [
    "lines"
   ]
  },
  {
   "cell_type": "code",
   "execution_count": 11,
   "id": "4dd469b4",
   "metadata": {},
   "outputs": [
    {
     "name": "stdout",
     "output_type": "stream",
     "text": [
      "This is line number 1.\n",
      "\n",
      "This is line number 2.\n",
      "\n",
      "This is line number 3.\n",
      "\n",
      "This is line number 4.\n",
      "\n",
      "This is line number 5.\n",
      "\n"
     ]
    }
   ],
   "source": [
    "for line in lines :\n",
    "    print(line)"
   ]
  },
  {
   "cell_type": "code",
   "execution_count": 12,
   "id": "943f1c73",
   "metadata": {},
   "outputs": [],
   "source": [
    "text_file.close()"
   ]
  },
  {
   "cell_type": "code",
   "execution_count": 13,
   "id": "24dcfdd0",
   "metadata": {},
   "outputs": [],
   "source": [
    "with open(\"C:/Users/it/dataset/file_1.txt\",\"r\") as f:\n",
    "    text_file = f.read()"
   ]
  },
  {
   "cell_type": "code",
   "execution_count": 14,
   "id": "4c8545c8",
   "metadata": {},
   "outputs": [
    {
     "data": {
      "text/plain": [
       "'This is line number 1.\\nThis is line number 2.\\nThis is line number 3.\\nThis is line number 4.\\nThis is line number 5.\\n'"
      ]
     },
     "execution_count": 14,
     "metadata": {},
     "output_type": "execute_result"
    }
   ],
   "source": [
    "text_file"
   ]
  },
  {
   "cell_type": "markdown",
   "id": "87ba1279",
   "metadata": {},
   "source": [
    "#### `[1.2] WRITING TEXT FILES \"W\"`\n",
    "\n",
    "\n",
    "---"
   ]
  },
  {
   "cell_type": "code",
   "execution_count": 15,
   "id": "ff0c5b11",
   "metadata": {},
   "outputs": [],
   "source": [
    "text_file_2 = open(\"C:/Users/it/dataset/file_2.txt\",\"r\")"
   ]
  },
  {
   "cell_type": "code",
   "execution_count": 16,
   "id": "43ed27f5",
   "metadata": {},
   "outputs": [
    {
     "data": {
      "text/plain": [
       "'monikamonika solanki\\nm\\no\\nn\\ni\\nk\\na'"
      ]
     },
     "execution_count": 16,
     "metadata": {},
     "output_type": "execute_result"
    }
   ],
   "source": [
    "text_file_2.read()"
   ]
  },
  {
   "cell_type": "code",
   "execution_count": 17,
   "id": "3627e7f5",
   "metadata": {},
   "outputs": [],
   "source": [
    "text_file_2.close()"
   ]
  },
  {
   "cell_type": "code",
   "execution_count": 18,
   "id": "f53df07d",
   "metadata": {},
   "outputs": [],
   "source": [
    "text_file_2 = open(\"C:/Users/it/dataset/file_2.txt\",\"w\")"
   ]
  },
  {
   "cell_type": "code",
   "execution_count": 19,
   "id": "a8cf9d36",
   "metadata": {},
   "outputs": [
    {
     "data": {
      "text/plain": [
       "14"
      ]
     },
     "execution_count": 19,
     "metadata": {},
     "output_type": "execute_result"
    }
   ],
   "source": [
    "text_file_2.write(\"monika solanki\")"
   ]
  },
  {
   "cell_type": "code",
   "execution_count": 20,
   "id": "e100d04b",
   "metadata": {},
   "outputs": [],
   "source": [
    "text_file_2.close()"
   ]
  },
  {
   "cell_type": "code",
   "execution_count": 21,
   "id": "ef768cb5",
   "metadata": {},
   "outputs": [],
   "source": [
    "text_file_2 = open(\"C:/Users/it/dataset/file_2.txt\",\"r\")"
   ]
  },
  {
   "cell_type": "code",
   "execution_count": 22,
   "id": "3bda5e57",
   "metadata": {},
   "outputs": [
    {
     "data": {
      "text/plain": [
       "'monika solanki'"
      ]
     },
     "execution_count": 22,
     "metadata": {},
     "output_type": "execute_result"
    }
   ],
   "source": [
    "text_file_2.read()"
   ]
  },
  {
   "cell_type": "code",
   "execution_count": 23,
   "id": "88cbfed3",
   "metadata": {},
   "outputs": [],
   "source": [
    "text_file_2.close()"
   ]
  },
  {
   "cell_type": "code",
   "execution_count": 24,
   "id": "1dbbe83d",
   "metadata": {},
   "outputs": [],
   "source": [
    "text_file_2 = open(\"C:/Users/it/dataset/file_2.txt\",\"w\")"
   ]
  },
  {
   "cell_type": "code",
   "execution_count": 25,
   "id": "894e101d",
   "metadata": {},
   "outputs": [],
   "source": [
    "lines_1 = ['m','o','n','i','k','a']\n",
    "text_file_2.writelines(lines_1)"
   ]
  },
  {
   "cell_type": "code",
   "execution_count": 26,
   "id": "2c9331b3",
   "metadata": {},
   "outputs": [],
   "source": [
    "text_file_2.close()"
   ]
  },
  {
   "cell_type": "code",
   "execution_count": 27,
   "id": "6ce27b15",
   "metadata": {},
   "outputs": [],
   "source": [
    "text_file_2 = open(\"C:/Users/it/dataset/file_2.txt\",\"r\")"
   ]
  },
  {
   "cell_type": "code",
   "execution_count": 28,
   "id": "aa8ccb6b",
   "metadata": {},
   "outputs": [
    {
     "data": {
      "text/plain": [
       "'monika'"
      ]
     },
     "execution_count": 28,
     "metadata": {},
     "output_type": "execute_result"
    }
   ],
   "source": [
    "text_file_2.read()"
   ]
  },
  {
   "cell_type": "code",
   "execution_count": 29,
   "id": "6266818b",
   "metadata": {},
   "outputs": [],
   "source": [
    "text_file_2.close()"
   ]
  },
  {
   "cell_type": "markdown",
   "id": "f3c1f2a6",
   "metadata": {},
   "source": [
    "#### `[1.3] Appending TEXT FILES (\"a\")`\n",
    "\n",
    "---"
   ]
  },
  {
   "cell_type": "code",
   "execution_count": 30,
   "id": "d42f4c47",
   "metadata": {},
   "outputs": [],
   "source": [
    "text_file_2 = open(\"C:/Users/it/dataset/file_2.txt\",\"a\")"
   ]
  },
  {
   "cell_type": "code",
   "execution_count": 31,
   "id": "900a6511",
   "metadata": {},
   "outputs": [
    {
     "data": {
      "text/plain": [
       "14"
      ]
     },
     "execution_count": 31,
     "metadata": {},
     "output_type": "execute_result"
    }
   ],
   "source": [
    "text_file_2.write(\"monika solanki\")"
   ]
  },
  {
   "cell_type": "code",
   "execution_count": 32,
   "id": "3f076547",
   "metadata": {},
   "outputs": [],
   "source": [
    "text_file_2.close()"
   ]
  },
  {
   "cell_type": "code",
   "execution_count": 33,
   "id": "628e02d8",
   "metadata": {},
   "outputs": [],
   "source": [
    "text_file_2 = open(\"C:/Users/it/dataset/file_2.txt\",\"r\")"
   ]
  },
  {
   "cell_type": "code",
   "execution_count": 34,
   "id": "757f23d4",
   "metadata": {},
   "outputs": [
    {
     "data": {
      "text/plain": [
       "'monikamonika solanki'"
      ]
     },
     "execution_count": 34,
     "metadata": {},
     "output_type": "execute_result"
    }
   ],
   "source": [
    "text_file_2.read()"
   ]
  },
  {
   "cell_type": "code",
   "execution_count": 35,
   "id": "600683bd",
   "metadata": {},
   "outputs": [],
   "source": [
    "text_file_2.close()"
   ]
  },
  {
   "cell_type": "code",
   "execution_count": 36,
   "id": "8c8c2ccf",
   "metadata": {},
   "outputs": [],
   "source": [
    "text_file_2 = open(\"C:/Users/it/dataset/file_2.txt\",\"a\")"
   ]
  },
  {
   "cell_type": "code",
   "execution_count": 37,
   "id": "8b6d10c0",
   "metadata": {},
   "outputs": [],
   "source": [
    "lines_2 = ['\\nm','\\no','\\nn','\\ni','\\nk','\\na']\n",
    "for i in lines_2:\n",
    "    text_file_2.write(i)\n",
    "    \n"
   ]
  },
  {
   "cell_type": "code",
   "execution_count": 38,
   "id": "7f4a4461",
   "metadata": {},
   "outputs": [],
   "source": [
    "text_file_2.close()"
   ]
  },
  {
   "cell_type": "code",
   "execution_count": 39,
   "id": "4f752bbe",
   "metadata": {},
   "outputs": [],
   "source": [
    "text_file_2 = open(\"C:/Users/it/dataset/file_2.txt\",\"r\")"
   ]
  },
  {
   "cell_type": "code",
   "execution_count": 40,
   "id": "9d46a4f6",
   "metadata": {},
   "outputs": [
    {
     "data": {
      "text/plain": [
       "'monikamonika solanki\\nm\\no\\nn\\ni\\nk\\na'"
      ]
     },
     "execution_count": 40,
     "metadata": {},
     "output_type": "execute_result"
    }
   ],
   "source": [
    "text_file_2.read()"
   ]
  },
  {
   "cell_type": "code",
   "execution_count": 41,
   "id": "ba359784",
   "metadata": {},
   "outputs": [],
   "source": [
    "text_file_2.close()"
   ]
  }
 ],
 "metadata": {
  "kernelspec": {
   "display_name": "Python 3 (ipykernel)",
   "language": "python",
   "name": "python3"
  },
  "language_info": {
   "codemirror_mode": {
    "name": "ipython",
    "version": 3
   },
   "file_extension": ".py",
   "mimetype": "text/x-python",
   "name": "python",
   "nbconvert_exporter": "python",
   "pygments_lexer": "ipython3",
   "version": "3.9.13"
  }
 },
 "nbformat": 4,
 "nbformat_minor": 5
}
